{
 "cells": [
  {
   "cell_type": "code",
   "execution_count": 1,
   "metadata": {},
   "outputs": [],
   "source": [
    "import os.path as op\n",
    "import numpy as np\n",
    "from pandas import read_csv\n",
    "import matplotlib.pyplot as plt\n",
    "\n",
    "from sklearn.model_selection import StratifiedKFold\n",
    "from sklearn.pipeline import make_pipeline\n",
    "from sklearn.preprocessing import StandardScaler\n",
    "from sklearn.linear_model import LogisticRegression\n",
    "from sklearn.metrics import roc_auc_score\n",
    "from sklearn.manifold import MDS\n",
    "\n",
    "import mne\n",
    "from mne.io import read_raw_fif, concatenate_raws\n",
    "from mne.datasets import visual_92_categories"
   ]
  },
  {
   "cell_type": "code",
   "execution_count": 2,
   "metadata": {},
   "outputs": [
    {
     "name": "stdout",
     "output_type": "stream",
     "text": [
      "Automatically created module for IPython interactive environment\n",
      "   trigger       condition  human  face  animal  natural\n",
      "0        0  human bodypart      1     0       1        1\n",
      "1        1  human bodypart      1     0       1        1\n",
      "2        2  human bodypart      1     0       1        1\n",
      "3        3  human bodypart      1     0       1        1\n",
      "4        4  human bodypart      1     0       1        1\n"
     ]
    }
   ],
   "source": [
    "print(__doc__)\n",
    "\n",
    "data_path = visual_92_categories.data_path()\n",
    "\n",
    "# Define stimulus - trigger mapping\n",
    "fname = op.join(data_path, 'visual_stimuli.csv')\n",
    "conds = read_csv(fname)\n",
    "print(conds.head(5))"
   ]
  },
  {
   "cell_type": "code",
   "execution_count": 3,
   "metadata": {},
   "outputs": [],
   "source": [
    "max_trigger = 92\n",
    "conds = conds[:max_trigger]  # take only the first 24 rows"
   ]
  },
  {
   "cell_type": "code",
   "execution_count": 4,
   "metadata": {},
   "outputs": [
    {
     "name": "stdout",
     "output_type": "stream",
     "text": [
      "['0/human bodypart/human/not-face/animal/natural', '1/human bodypart/human/not-face/animal/natural', '2/human bodypart/human/not-face/animal/natural', '3/human bodypart/human/not-face/animal/natural', '4/human bodypart/human/not-face/animal/natural']\n"
     ]
    }
   ],
   "source": [
    "conditions = []\n",
    "for c in conds.values:\n",
    "    cond_tags = list(c[:2])\n",
    "    cond_tags += [('not-' if i == 0 else '') + conds.columns[k]\n",
    "                  for k, i in enumerate(c[2:], 2)]\n",
    "    conditions.append('/'.join(map(str, cond_tags)))\n",
    "print(conditions[:5])"
   ]
  },
  {
   "cell_type": "code",
   "execution_count": 5,
   "metadata": {},
   "outputs": [
    {
     "data": {
      "text/plain": [
       "1"
      ]
     },
     "execution_count": 5,
     "metadata": {},
     "output_type": "execute_result"
    }
   ],
   "source": [
    "event_id = dict(zip(conditions, conds.trigger + 1))\n",
    "event_id['0/human bodypart/human/not-face/animal/natural']"
   ]
  },
  {
   "cell_type": "code",
   "execution_count": 6,
   "metadata": {
    "scrolled": true
   },
   "outputs": [
    {
     "name": "stdout",
     "output_type": "stream",
     "text": [
      "4142 events found\n",
      "Event IDs: [  1   2   3   4   5   6   7   8   9  10  11  12  13  14  15  16  17  18\n",
      "  19  20  21  22  23  24  25  26  27  28  29  30  31  32  33  34  35  36\n",
      "  37  38  39  40  41  42  43  44  45  46  47  48  49  50  51  52  53  54\n",
      "  55  56  57  58  59  60  61  62  63  64  65  66  67  68  69  70  71  72\n",
      "  73  74  75  76  77  78  79  80  81  82  83  84  85  86  87  88  89  90\n",
      "  91  92  93 200 222 244]\n"
     ]
    }
   ],
   "source": [
    "n_runs = 4  # 4 for full data (use less to speed up computations)\n",
    "fname = op.join(data_path, 'sample_subject_%i_tsss_mc.fif')\n",
    "raws = [read_raw_fif(fname % block, verbose='error')\n",
    "        for block in range(n_runs)]  # ignore filename warnings\n",
    "raw = concatenate_raws(raws)\n",
    "\n",
    "events = mne.find_events(raw, min_duration=.002)\n",
    "events = events[events[:, 2] <= max_trigger]"
   ]
  },
  {
   "cell_type": "code",
   "execution_count": 7,
   "metadata": {
    "scrolled": true
   },
   "outputs": [
    {
     "name": "stdout",
     "output_type": "stream",
     "text": [
      "Not setting metadata\n",
      "Not setting metadata\n",
      "2760 matching events found\n",
      "No baseline correction applied\n",
      "0 projection items activated\n",
      "Loading data for 2760 events and 901 original time points ...\n",
      "2 bad epochs dropped\n"
     ]
    }
   ],
   "source": [
    "picks = mne.pick_types(raw.info, meg=True)\n",
    "epochs = mne.Epochs(raw, events=events, event_id=event_id, baseline=None,\n",
    "                    picks=picks, tmin=-.1, tmax=.800, preload=True)"
   ]
  },
  {
   "cell_type": "code",
   "execution_count": 8,
   "metadata": {},
   "outputs": [],
   "source": [
    "Q = epochs.copy().crop(0.05, 0.7).get_data()"
   ]
  },
  {
   "cell_type": "code",
   "execution_count": 9,
   "metadata": {
    "scrolled": true
   },
   "outputs": [
    {
     "data": {
      "text/plain": [
       "(2758, 306, 651)"
      ]
     },
     "execution_count": 9,
     "metadata": {},
     "output_type": "execute_result"
    }
   ],
   "source": [
    "Q.shape"
   ]
  },
  {
   "cell_type": "code",
   "execution_count": 103,
   "metadata": {},
   "outputs": [],
   "source": [
    "#Morlet Wavelet\n",
    "myfreqrange = np.array([2,120])\n",
    "Fs = 1000; # Hz, sampling rate\n",
    "#timedur = Q.shape[2]/Fs; % seconds, temporal duration\n",
    "timevec = np.arange(0.05, 0.7 + 1/Fs, 1/Fs); # vector of time between 0 and timedur seconds\n",
    "timevec_gauss = np.arange(-2, 2, (1/Fs));\n",
    "lofreq = myfreqrange[0];\n",
    "hifreq = myfreqrange[1];"
   ]
  },
  {
   "cell_type": "code",
   "execution_count": 104,
   "metadata": {},
   "outputs": [],
   "source": [
    "NWavelets = 400;\n",
    "NCycles = 7;\n",
    "MyFreqs = np.linspace(lofreq,hifreq,NWavelets);\n",
    "MyMorletFamily = np.empty((0,4000), int)\n",
    "MEG_Power = []\n",
    "MEG_Power_Bands = []"
   ]
  },
  {
   "cell_type": "code",
   "execution_count": 105,
   "metadata": {
    "scrolled": true
   },
   "outputs": [],
   "source": [
    "def normpdf(x, mu=0, sigma=1):\n",
    "    u = float((x-mu) / abs(sigma))\n",
    "    y = np.exp(-u*u/2) / (np.sqrt(2*np.pi) * abs(sigma))\n",
    "    return y\n",
    "\n",
    "for wnum in range(0, NWavelets):\n",
    "        myomega = 2 * np.pi * MyFreqs[wnum];\n",
    "        mysigma = NCycles/myomega;\n",
    "        mygauss = np.array([normpdf(i,0,mysigma)\n",
    "                    for i in timevec_gauss]);\n",
    "        mySig = np.exp(1j*myomega*timevec_gauss);\n",
    "        MyMorletFamily = np.append(MyMorletFamily, [mySig * mygauss], axis = 0);"
   ]
  },
  {
   "cell_type": "code",
   "execution_count": 106,
   "metadata": {},
   "outputs": [
    {
     "data": {
      "text/plain": [
       "(400, 4000)"
      ]
     },
     "execution_count": 106,
     "metadata": {},
     "output_type": "execute_result"
    }
   ],
   "source": []
  },
  {
   "cell_type": "code",
   "execution_count": 70,
   "metadata": {},
   "outputs": [],
   "source": [
    "# Classify using the average signal in the window 50ms to 300ms\n",
    "# to focus the classifier on the time interval with best SNR.\n",
    "clf = make_pipeline(StandardScaler(),\n",
    "                    LogisticRegression(C=1, solver='liblinear',\n",
    "                                       multi_class='auto'))\n",
    "X = Q\n",
    "#y = epochs.events[:, 2]\n",
    "y_sup = (epochs.events[:, 2] > 48).astype(int)\n",
    "classes = set(y_sup)\n",
    "\n",
    "cv = StratifiedKFold(n_splits=5, random_state=0, shuffle=True)\n",
    "\n",
    "# Compute confusion matrix for each cross-validation fold\n",
    "y_pred = np.zeros((len(y_sup), len(classes)))\n",
    "for train, test in cv.split(X, y_sup):\n",
    "    # Fit\n",
    "    clf.fit(X[train], y_sup[train])\n",
    "    # Probabilistic prediction (necessary for ROC-AUC scoring metric)\n",
    "    y_pred[test] = clf.predict_proba(X[test])"
   ]
  },
  {
   "cell_type": "code",
   "execution_count": null,
   "metadata": {},
   "outputs": [],
   "source": []
  },
  {
   "cell_type": "code",
   "execution_count": 90,
   "metadata": {},
   "outputs": [
    {
     "data": {
      "text/plain": [
       "array([[0.67340695, 0.32659305],\n",
       "       [0.32659305, 0.67340695]])"
      ]
     },
     "execution_count": 90,
     "metadata": {},
     "output_type": "execute_result"
    }
   ],
   "source": [
    "confusion = np.zeros((len(classes), len(classes)))\n",
    "for ii, train_class in enumerate(classes):\n",
    "    for jj in range(ii, len(classes)):\n",
    "        confusion[ii, jj] = roc_auc_score(y_sup == train_class, y_pred[:, jj])\n",
    "        confusion[jj, ii] = confusion[ii, jj]\n",
    "confusion  "
   ]
  },
  {
   "cell_type": "code",
   "execution_count": 72,
   "metadata": {},
   "outputs": [
    {
     "data": {
      "image/png": "[encoded data removed]",
      "text/plain": [
       "<Figure size 432x288 with 2 Axes>"
      ]
     },
     "metadata": {
      "needs_background": "light"
     },
     "output_type": "display_data"
    }
   ],
   "source": [
    "labels = [''] * 5 + ['face'] + [''] * 11 + ['bodypart'] + [''] * 6\n",
    "fig, ax = plt.subplots(1)\n",
    "im = ax.matshow(confusion, cmap='RdBu_r', clim=[0.3, 0.7])\n",
    "ax.set_yticks(range(len(classes)))\n",
    "ax.set_yticklabels(labels)\n",
    "ax.set_xticks(range(len(classes)))\n",
    "ax.set_xticklabels(labels, rotation=40, ha='left')\n",
    "ax.axhline(11.5, color='k')\n",
    "ax.axvline(11.5, color='k')\n",
    "plt.colorbar(im)\n",
    "plt.tight_layout()\n",
    "plt.show()"
   ]
  },
  {
   "cell_type": "code",
   "execution_count": 69,
   "metadata": {},
   "outputs": [
    {
     "ename": "IndexError",
     "evalue": "index 12 is out of bounds for axis 0 with size 2",
     "output_type": "error",
     "traceback": [
      "\u001b[1;31m---------------------------------------------------------------------------\u001b[0m",
      "\u001b[1;31mIndexError\u001b[0m                                Traceback (most recent call last)",
      "\u001b[1;32m<ipython-input-69-f7b624aa8179>\u001b[0m in \u001b[0;36m<module>\u001b[1;34m\u001b[0m\n\u001b[0;32m      9\u001b[0m     \u001b[0msel\u001b[0m \u001b[1;33m=\u001b[0m \u001b[0mnp\u001b[0m\u001b[1;33m.\u001b[0m\u001b[0mwhere\u001b[0m\u001b[1;33m(\u001b[0m\u001b[1;33m[\u001b[0m\u001b[0mthis_name\u001b[0m \u001b[1;33m==\u001b[0m \u001b[0mname\u001b[0m \u001b[1;32mfor\u001b[0m \u001b[0mthis_name\u001b[0m \u001b[1;32min\u001b[0m \u001b[0mnames\u001b[0m\u001b[1;33m]\u001b[0m\u001b[1;33m)\u001b[0m\u001b[1;33m[\u001b[0m\u001b[1;36m0\u001b[0m\u001b[1;33m]\u001b[0m\u001b[1;33m\u001b[0m\u001b[1;33m\u001b[0m\u001b[0m\n\u001b[0;32m     10\u001b[0m     \u001b[0msize\u001b[0m \u001b[1;33m=\u001b[0m \u001b[1;36m500\u001b[0m \u001b[1;32mif\u001b[0m \u001b[0mname\u001b[0m \u001b[1;33m==\u001b[0m \u001b[1;34m'human face'\u001b[0m \u001b[1;32melse\u001b[0m \u001b[1;36m100\u001b[0m\u001b[1;33m\u001b[0m\u001b[1;33m\u001b[0m\u001b[0m\n\u001b[1;32m---> 11\u001b[1;33m     ax.scatter(summary[sel, 0], summary[sel, 1], s=size,\n\u001b[0m\u001b[0;32m     12\u001b[0m                facecolors=color, label=name, edgecolors='k')\n\u001b[0;32m     13\u001b[0m \u001b[0max\u001b[0m\u001b[1;33m.\u001b[0m\u001b[0maxis\u001b[0m\u001b[1;33m(\u001b[0m\u001b[1;34m'off'\u001b[0m\u001b[1;33m)\u001b[0m\u001b[1;33m\u001b[0m\u001b[1;33m\u001b[0m\u001b[0m\n",
      "\u001b[1;31mIndexError\u001b[0m: index 12 is out of bounds for axis 0 with size 2"
     ]
    },
    {
     "data": {
      "image/png": "[encoded data removed]",
      "text/plain": [
       "<Figure size 432x288 with 1 Axes>"
      ]
     },
     "metadata": {
      "needs_background": "light"
     },
     "output_type": "display_data"
    }
   ],
   "source": [
    "fig, ax = plt.subplots(1)\n",
    "mds = MDS(2, random_state=0, dissimilarity='precomputed')\n",
    "chance = 0.5\n",
    "summary = mds.fit_transform(chance - confusion)\n",
    "cmap = plt.get_cmap('rainbow')\n",
    "colors = ['r', 'b']\n",
    "names = list(conds['condition'].values)\n",
    "for color, name in zip(colors, set(names)):\n",
    "    sel = np.where([this_name == name for this_name in names])[0]\n",
    "    size = 500 if name == 'human face' else 100\n",
    "    ax.scatter(summary[sel, 0], summary[sel, 1], s=size,\n",
    "               facecolors=color, label=name, edgecolors='k')\n",
    "ax.axis('off')\n",
    "ax.legend(loc='lower right', scatterpoints=1, ncol=2)\n",
    "plt.tight_layout()\n",
    "plt.show()"
   ]
  }
 ],
 "metadata": {
  "kernelspec": {
   "display_name": "Python 3",
   "language": "python",
   "name": "python3"
  },
  "language_info": {
   "codemirror_mode": {
    "name": "ipython",
    "version": 3
   },
   "file_extension": ".py",
   "mimetype": "text/x-python",
   "name": "python",
   "nbconvert_exporter": "python",
   "pygments_lexer": "ipython3",
   "version": "3.7.8"
  }
 },
 "nbformat": 4,
 "nbformat_minor": 4
}
