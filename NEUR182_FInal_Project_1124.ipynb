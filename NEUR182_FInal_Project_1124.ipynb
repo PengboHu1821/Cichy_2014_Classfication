{
 "cells": [
  {
   "cell_type": "code",
   "execution_count": 3,
   "metadata": {
    "collapsed": true,
    "deletable": true,
    "editable": true
   },
   "outputs": [],
   "source": [
    "import os.path as op\n",
    "import numpy as np\n",
    "from pandas import read_csv\n",
    "import matplotlib.pyplot as plt\n",
    "\n",
    "from sklearn.model_selection import StratifiedKFold\n",
    "from sklearn.pipeline import make_pipeline\n",
    "from sklearn.preprocessing import StandardScaler\n",
    "from sklearn.linear_model import LogisticRegression\n",
    "from sklearn.metrics import roc_auc_score\n",
    "from sklearn.manifold import MDS\n",
    "\n",
    "import mne\n",
    "from mne.io import read_raw_fif, concatenate_raws\n",
    "from mne.datasets import visual_92_categories"
   ]
  },
  {
   "cell_type": "code",
   "execution_count": 4,
   "metadata": {
    "collapsed": false,
    "deletable": true,
    "editable": true
   },
   "outputs": [
    {
     "name": "stdout",
     "output_type": "stream",
     "text": [
      "Automatically created module for IPython interactive environment\n",
      "   trigger       condition  human  face  animal  natural\n",
      "0        0  human bodypart      1     0       1        1\n",
      "1        1  human bodypart      1     0       1        1\n",
      "2        2  human bodypart      1     0       1        1\n",
      "3        3  human bodypart      1     0       1        1\n",
      "4        4  human bodypart      1     0       1        1\n"
     ]
    }
   ],
   "source": [
    "print(__doc__)\n",
    "\n",
    "data_path = visual_92_categories.data_path()\n",
    "\n",
    "# Define stimulus - trigger mapping\n",
    "fname = op.join(data_path, 'visual_stimuli.csv')\n",
    "conds = read_csv(fname)\n",
    "print(conds.head(5))"
   ]
  },
  {
   "cell_type": "code",
   "execution_count": 5,
   "metadata": {
    "collapsed": true,
    "deletable": true,
    "editable": true
   },
   "outputs": [],
   "source": [
    "max_trigger = 92\n",
    "conds = conds[:max_trigger]  # take only the first 24 rows"
   ]
  },
  {
   "cell_type": "code",
   "execution_count": 6,
   "metadata": {
    "collapsed": false,
    "deletable": true,
    "editable": true
   },
   "outputs": [
    {
     "name": "stdout",
     "output_type": "stream",
     "text": [
      "['0/human bodypart/human/not-face/animal/natural', '1/human bodypart/human/not-face/animal/natural', '2/human bodypart/human/not-face/animal/natural', '3/human bodypart/human/not-face/animal/natural', '4/human bodypart/human/not-face/animal/natural']\n"
     ]
    }
   ],
   "source": [
    "conditions = []\n",
    "for c in conds.values:\n",
    "    cond_tags = list(c[:2])\n",
    "    cond_tags += [('not-' if i == 0 else '') + conds.columns[k]\n",
    "                  for k, i in enumerate(c[2:], 2)]\n",
    "    conditions.append('/'.join(map(str, cond_tags)))\n",
    "print(conditions[:5])"
   ]
  },
  {
   "cell_type": "code",
   "execution_count": 7,
   "metadata": {
    "collapsed": false,
    "deletable": true,
    "editable": true
   },
   "outputs": [
    {
     "data": {
      "text/plain": [
       "1"
      ]
     },
     "execution_count": 7,
     "metadata": {},
     "output_type": "execute_result"
    }
   ],
   "source": [
    "event_id = dict(zip(conditions, conds.trigger + 1))\n",
    "event_id['0/human bodypart/human/not-face/animal/natural']"
   ]
  },
  {
   "cell_type": "code",
   "execution_count": 8,
   "metadata": {
    "collapsed": false,
    "deletable": true,
    "editable": true,
    "scrolled": true
   },
   "outputs": [
    {
     "name": "stdout",
     "output_type": "stream",
     "text": [
      "4142 events found\n",
      "Event IDs: [  1   2   3   4   5   6   7   8   9  10  11  12  13  14  15  16  17  18\n",
      "  19  20  21  22  23  24  25  26  27  28  29  30  31  32  33  34  35  36\n",
      "  37  38  39  40  41  42  43  44  45  46  47  48  49  50  51  52  53  54\n",
      "  55  56  57  58  59  60  61  62  63  64  65  66  67  68  69  70  71  72\n",
      "  73  74  75  76  77  78  79  80  81  82  83  84  85  86  87  88  89  90\n",
      "  91  92  93 200 222 244]\n"
     ]
    }
   ],
   "source": [
    "n_runs = 1  # 4 for full data (use less to speed up computations)\n",
    "fname = op.join(data_path, 'sample_subject_%i_tsss_mc.fif')\n",
    "raws = [read_raw_fif(fname % block, verbose='error')\n",
    "        for block in range(n_runs)]  # ignore filename warnings\n",
    "raw = concatenate_raws(raws)\n",
    "\n",
    "events = mne.find_events(raw, min_duration=.002)\n",
    "events = events[events[:, 2] <= max_trigger]"
   ]
  },
  {
   "cell_type": "code",
   "execution_count": 9,
   "metadata": {
    "collapsed": false,
    "deletable": true,
    "editable": true,
    "scrolled": true
   },
   "outputs": [
    {
     "name": "stdout",
     "output_type": "stream",
     "text": [
      "Not setting metadata\n",
      "Not setting metadata\n",
      "2760 matching events found\n",
      "No baseline correction applied\n",
      "0 projection items activated\n",
      "Loading data for 2760 events and 901 original time points ...\n",
      "2 bad epochs dropped\n"
     ]
    }
   ],
   "source": [
    "picks = mne.pick_types(raw.info, meg=True)\n",
    "epochs = mne.Epochs(raw, events=events, event_id=event_id, baseline=None,\n",
    "                    picks=picks, tmin=-.1, tmax=.4, preload=True)"
   ]
  },
  {
   "cell_type": "code",
   "execution_count": 8,
   "metadata": {
    "collapsed": true,
    "deletable": true,
    "editable": true
   },
   "outputs": [],
   "source": [
    "Q = epochs.copy().crop(0.05, 0.3).get_data()"
   ]
  },
  {
   "cell_type": "code",
   "execution_count": 9,
   "metadata": {
    "collapsed": false,
    "deletable": true,
    "editable": true,
    "scrolled": true
   },
   "outputs": [
    {
     "data": {
      "text/plain": [
       "(2758, 306, 651)"
      ]
     },
     "execution_count": 9,
     "metadata": {},
     "output_type": "execute_result"
    }
   ],
   "source": [
    "Q.shape"
   ]
  },
  {
   "cell_type": "code",
   "execution_count": 16,
   "metadata": {
    "collapsed": true,
    "deletable": true,
    "editable": true
   },
   "outputs": [],
   "source": [
    "#Morlet Wavelet\n",
    "myfreqrange = np.array([2,120])\n",
    "Fs = 1000; # Hz, sampling rate\n",
    "#timedur = Q.shape[2]/Fs; % seconds, temporal duration\n",
    "timevec = np.arange(0.05, 0.3 + 1/Fs, 1/Fs) # vector of time between 0 and timedur seconds\n",
    "timevec_gauss = np.arange(-2, 2, (1/Fs))\n",
    "lofreq = myfreqrange[0]\n",
    "hifreq = myfreqrange[1]"
   ]
  },
  {
   "cell_type": "code",
   "execution_count": 17,
   "metadata": {
    "collapsed": true,
    "deletable": true,
    "editable": true
   },
   "outputs": [],
   "source": [
    "NWavelets = 236\n",
    "NCycles = 7\n",
    "MyFreqs = np.linspace(lofreq,hifreq,NWavelets)\n",
    "MyMorletFamily = np.empty((0,4000), int) #equivalent to \"clear\" "
   ]
  },
  {
   "cell_type": "code",
   "execution_count": 18,
   "metadata": {
    "collapsed": true,
    "deletable": true,
    "editable": true,
    "scrolled": true
   },
   "outputs": [],
   "source": [
    "def normpdf(x, mu=0, sigma=1):\n",
    "    u = float((x-mu) / abs(sigma))\n",
    "    y = np.exp(-u*u/2) / (np.sqrt(2*np.pi) * abs(sigma))\n",
    "    return y\n",
    "\n",
    "for wnum in range(0, NWavelets):\n",
    "        myomega = 2 * np.pi * MyFreqs[wnum];\n",
    "        mysigma = NCycles/myomega\n",
    "        mygauss = np.array([normpdf(i,0,mysigma)\n",
    "                    for i in timevec_gauss])\n",
    "        mySig = np.exp(1j*myomega*timevec_gauss)\n",
    "        MyMorletFamily = np.append(MyMorletFamily, [mySig * mygauss], axis = 0)"
   ]
  },
  {
   "cell_type": "code",
   "execution_count": 23,
   "metadata": {
    "collapsed": true,
    "deletable": true,
    "editable": true,
    "scrolled": true
   },
   "outputs": [],
   "source": [
    "MF_size = MyMorletFamily.shape[0]"
   ]
  },
  {
   "cell_type": "code",
   "execution_count": null,
   "metadata": {
    "collapsed": true,
    "deletable": true,
    "editable": true
   },
   "outputs": [],
   "source": [
    "#Transfer time series data into frequency domain\n",
    "\n",
    "# Baseline; divide by -.1 to 0\n",
    "\n",
    "\n",
    "# Time Bins\n",
    "TimeBins = np.linspace(0.05, 0.3, 25)\n",
    "# Frequency Bins\n",
    "FreqBins = [2 4 8 13 20 35 55 80 120]\n",
    "\n",
    "NTBins = len(TimeBins)\n",
    "NFBins = len(FreqBins)\n",
    "\n",
    "for chan in range(0, Q.shape[1]): #looping thru channels\n",
    "    data = np.squeeze(Q[:, chan, :])\n",
    "    NEvents = data.shape[0]\n",
    "    nconvolution = timevec_gauss.shape[0] + data.shape[1] - 1\n",
    "    nshift = (length(timevec_gauss)-1)/2\n",
    "    for i in range(0, NEvents): #looping thru events\n",
    "        fftMEG = np.fft(data[i,:],nconvolution)\n",
    "        for wnum in range(1, NWavelets):\n",
    "            \n",
    "            fftGW = np.fft.fft(MyMorletFamily[wnum,:],nconvolution) # one dimensional transform?\n",
    "        \n",
    "            fftconv = fftMEG * np.repmat(fftGW,64,1) # * for multiplying numpy arrays\n",
    "            conv_result = np.ifft(fftconv,nconvolution,2)\n",
    "            conv_result = conv_result(:,(nshift + 1):(end-nshift))\n",
    "        \n",
    "            MEG_Power(wnum,:,:) = np.transpose(abs(conv_result).^2) #numpy equivalent of transpose\n",
    "        \n",
    "            MEG_dB(wnum,:,:) = 10*log10(MEG_Power(wnum,:,:))\n",
    "            \n",
    "            #baseline???\n",
    "            #for loops??\n",
    "            #np.fft.fft\n",
    "        \n",
    "        \n",
    "        \n",
    "\n",
    "     \n",
    "# fast fourier transform (in numpy) (cohen's book) np.fft\n",
    "\n",
    "\n",
    "\n",
    "\n",
    "\n",
    "#one participant, for now  \n",
    "#wavelet number, then channel number\n",
    "\n",
    "\n",
    "#fft for each channel\n",
    "# then for each wavelet, going to do the fft of the gabor wavelet family, organize it by channel\n",
    "#element by element multiplication in python: numpy dot multiply\n",
    "#conv result using ifft , second dimension (,1) in python\n",
    "#nshift gives center\n",
    "#then baseline correct the power; conv result from 50-300 and divide from -.1 to 0\n"
   ]
  },
  {
   "cell_type": "code",
   "execution_count": 70,
   "metadata": {
    "collapsed": true,
    "deletable": true,
    "editable": true
   },
   "outputs": [],
   "source": [
    "# Classify using the average signal in the window 50ms to 300ms\n",
    "# to focus the classifier on the time interval with best SNR.\n",
    "clf = make_pipeline(StandardScaler(),\n",
    "                    LogisticRegression(C=1, solver='liblinear',\n",
    "                                       multi_class='auto'))\n",
    "X = Q\n",
    "#y = epochs.events[:, 2]\n",
    "y_sup = (epochs.events[:, 2] > 48).astype(int) #set up superordinate classification label. \n",
    "classes = set(y_sup) \n",
    "\n",
    "#cv = StratifiedKFold(n_splits=5, random_state=0, shuffle=True)\n",
    "\n",
    "# Compute confusion matrix for each cross-validation fold\n",
    "#y_pred = np.zeros((len(y_sup), len(classes)))\n",
    "#for train, test in cv.split(X, y_sup):\n",
    "    # Fit\n",
    " #   clf.fit(X[train], y_sup[train])\n",
    "    # Probabilistic prediction (necessary for ROC-AUC scoring metric)\n",
    "  #  y_pred[test] = clf.predict_proba(X[test])"
   ]
  },
  {
   "cell_type": "code",
   "execution_count": 14,
   "metadata": {
    "collapsed": false,
    "deletable": true,
    "editable": true,
    "scrolled": true
   },
   "outputs": [
    {
     "ename": "NameError",
     "evalue": "name 'classes' is not defined",
     "output_type": "error",
     "traceback": [
      "\u001b[1;31m---------------------------------------------------------------------------\u001b[0m",
      "\u001b[1;31mNameError\u001b[0m                                 Traceback (most recent call last)",
      "\u001b[1;32m<ipython-input-14-18e5d6c61204>\u001b[0m in \u001b[0;36m<module>\u001b[1;34m\u001b[0m\n\u001b[0;32m      1\u001b[0m \u001b[0my_sup\u001b[0m \u001b[1;33m=\u001b[0m \u001b[1;33m(\u001b[0m\u001b[0mepochs\u001b[0m\u001b[1;33m.\u001b[0m\u001b[0mevents\u001b[0m\u001b[1;33m[\u001b[0m\u001b[1;33m:\u001b[0m\u001b[1;33m,\u001b[0m \u001b[1;36m2\u001b[0m\u001b[1;33m]\u001b[0m \u001b[1;33m>\u001b[0m \u001b[1;36m48\u001b[0m\u001b[1;33m)\u001b[0m\u001b[1;33m.\u001b[0m\u001b[0mastype\u001b[0m\u001b[1;33m(\u001b[0m\u001b[0mint\u001b[0m\u001b[1;33m)\u001b[0m\u001b[1;33m\u001b[0m\u001b[1;33m\u001b[0m\u001b[0m\n\u001b[0;32m      2\u001b[0m \u001b[0my_sup\u001b[0m\u001b[1;33m.\u001b[0m\u001b[0mshape\u001b[0m\u001b[1;33m\u001b[0m\u001b[1;33m\u001b[0m\u001b[0m\n\u001b[1;32m----> 3\u001b[1;33m \u001b[0mclasses\u001b[0m\u001b[1;33m\u001b[0m\u001b[1;33m\u001b[0m\u001b[0m\n\u001b[0m",
      "\u001b[1;31mNameError\u001b[0m: name 'classes' is not defined"
     ]
    }
   ],
   "source": [
    "y_sup = (epochs.events[:, 2] > 48).astype(int)\n",
    "y_sup.shape\n",
    "classes"
   ]
  },
  {
   "cell_type": "code",
   "execution_count": null,
   "metadata": {
    "collapsed": true,
    "deletable": true,
    "editable": true
   },
   "outputs": [],
   "source": [
    "# Data trianing testing split"
   ]
  },
  {
   "cell_type": "code",
   "execution_count": null,
   "metadata": {
    "collapsed": true,
    "deletable": true,
    "editable": true
   },
   "outputs": [],
   "source": [
    "#Regularized Regression Lasso / Rigid / Logistics "
   ]
  },
  {
   "cell_type": "code",
   "execution_count": null,
   "metadata": {
    "collapsed": true,
    "deletable": true,
    "editable": true
   },
   "outputs": [],
   "source": [
    "#SVM"
   ]
  },
  {
   "cell_type": "code",
   "execution_count": null,
   "metadata": {
    "collapsed": true,
    "deletable": true,
    "editable": true
   },
   "outputs": [],
   "source": [
    "#RVM"
   ]
  },
  {
   "cell_type": "code",
   "execution_count": null,
   "metadata": {
    "collapsed": true,
    "deletable": true,
    "editable": true
   },
   "outputs": [],
   "source": [
    "#RF"
   ]
  },
  {
   "cell_type": "code",
   "execution_count": 90,
   "metadata": {
    "collapsed": false,
    "deletable": true,
    "editable": true
   },
   "outputs": [
    {
     "data": {
      "text/plain": [
       "array([[0.67340695, 0.32659305],\n",
       "       [0.32659305, 0.67340695]])"
      ]
     },
     "execution_count": 90,
     "metadata": {},
     "output_type": "execute_result"
    }
   ],
   "source": [
    "confusion = np.zeros((len(classes), len(classes)))\n",
    "for ii, train_class in enumerate(classes):\n",
    "    for jj in range(ii, len(classes)):\n",
    "        confusion[ii, jj] = roc_auc_score(y_sup == train_class, y_pred[:, jj])\n",
    "        confusion[jj, ii] = confusion[ii, jj]\n",
    "confusion  "
   ]
  }
 ],
 "metadata": {
  "kernelspec": {
   "display_name": "Python 3",
   "language": "python",
   "name": "python3"
  },
  "language_info": {
   "codemirror_mode": {
    "name": "ipython",
    "version": 3
   },
   "file_extension": ".py",
   "mimetype": "text/x-python",
   "name": "python",
   "nbconvert_exporter": "python",
   "pygments_lexer": "ipython3",
   "version": "3.5.2"
  }
 },
 "nbformat": 4,
 "nbformat_minor": 4
}
